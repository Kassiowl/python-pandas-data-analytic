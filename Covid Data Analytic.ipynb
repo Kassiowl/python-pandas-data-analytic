{
 "cells": [
  {
   "attachments": {},
   "cell_type": "markdown",
   "id": "0c4d93ea",
   "metadata": {},
   "source": [
    "This is a code to data analyze some csv files with learning purpose"
   ]
  },
  {
   "cell_type": "code",
   "execution_count": 1,
   "id": "28fc6183",
   "metadata": {},
   "outputs": [],
   "source": [
    "import pandas as pd\n",
    "import matplotlib.pyplot as plt\n",
    "import numpy as np\n"
   ]
  },
  {
   "cell_type": "code",
   "execution_count": 2,
   "id": "7bab7dbd",
   "metadata": {},
   "outputs": [
    {
     "data": {
      "text/html": [
       "<div>\n",
       "<style scoped>\n",
       "    .dataframe tbody tr th:only-of-type {\n",
       "        vertical-align: middle;\n",
       "    }\n",
       "\n",
       "    .dataframe tbody tr th {\n",
       "        vertical-align: top;\n",
       "    }\n",
       "\n",
       "    .dataframe thead th {\n",
       "        text-align: right;\n",
       "    }\n",
       "</style>\n",
       "<table border=\"1\" class=\"dataframe\">\n",
       "  <thead>\n",
       "    <tr style=\"text-align: right;\">\n",
       "      <th></th>\n",
       "      <th>Date</th>\n",
       "      <th>Country</th>\n",
       "      <th>AreaCode</th>\n",
       "      <th>Area</th>\n",
       "      <th>TotalCases</th>\n",
       "    </tr>\n",
       "  </thead>\n",
       "  <tbody>\n",
       "    <tr>\n",
       "      <th>0</th>\n",
       "      <td>2020-01-30</td>\n",
       "      <td>England</td>\n",
       "      <td>E06000014</td>\n",
       "      <td>York</td>\n",
       "      <td>1.0</td>\n",
       "    </tr>\n",
       "    <tr>\n",
       "      <th>1</th>\n",
       "      <td>2020-02-03</td>\n",
       "      <td>England</td>\n",
       "      <td>E10000002</td>\n",
       "      <td>Buckinghamshire</td>\n",
       "      <td>1.0</td>\n",
       "    </tr>\n",
       "    <tr>\n",
       "      <th>2</th>\n",
       "      <td>2020-02-03</td>\n",
       "      <td>Wales</td>\n",
       "      <td>W11000028</td>\n",
       "      <td>Aneurin Bevan</td>\n",
       "      <td>0.0</td>\n",
       "    </tr>\n",
       "    <tr>\n",
       "      <th>3</th>\n",
       "      <td>2020-02-03</td>\n",
       "      <td>Wales</td>\n",
       "      <td>W11000023</td>\n",
       "      <td>Betsi Cadwaladr</td>\n",
       "      <td>0.0</td>\n",
       "    </tr>\n",
       "    <tr>\n",
       "      <th>4</th>\n",
       "      <td>2020-02-03</td>\n",
       "      <td>Wales</td>\n",
       "      <td>W11000029</td>\n",
       "      <td>Cardiff and Vale</td>\n",
       "      <td>0.0</td>\n",
       "    </tr>\n",
       "  </tbody>\n",
       "</table>\n",
       "</div>"
      ],
      "text/plain": [
       "         Date  Country   AreaCode              Area  TotalCases\n",
       "0  2020-01-30  England  E06000014              York         1.0\n",
       "1  2020-02-03  England  E10000002   Buckinghamshire         1.0\n",
       "2  2020-02-03    Wales  W11000028     Aneurin Bevan         0.0\n",
       "3  2020-02-03    Wales  W11000023   Betsi Cadwaladr         0.0\n",
       "4  2020-02-03    Wales  W11000029  Cardiff and Vale         0.0"
      ]
     },
     "execution_count": 2,
     "metadata": {},
     "output_type": "execute_result"
    }
   ],
   "source": [
    "\n",
    "\n",
    "covid_data = pd.read_csv(\"covid-19-cases-uk.csv\")\n",
    "\n",
    "covid_data.head()\n",
    "\n"
   ]
  },
  {
   "cell_type": "code",
   "execution_count": 3,
   "id": "93ef0d6c",
   "metadata": {},
   "outputs": [
    {
     "data": {
      "text/html": [
       "<div>\n",
       "<style scoped>\n",
       "    .dataframe tbody tr th:only-of-type {\n",
       "        vertical-align: middle;\n",
       "    }\n",
       "\n",
       "    .dataframe tbody tr th {\n",
       "        vertical-align: top;\n",
       "    }\n",
       "\n",
       "    .dataframe thead th {\n",
       "        text-align: right;\n",
       "    }\n",
       "</style>\n",
       "<table border=\"1\" class=\"dataframe\">\n",
       "  <thead>\n",
       "    <tr style=\"text-align: right;\">\n",
       "      <th></th>\n",
       "      <th>Date</th>\n",
       "      <th>Country</th>\n",
       "      <th>AreaCode</th>\n",
       "      <th>Area</th>\n",
       "      <th>TotalCases</th>\n",
       "      <th>TotalCasesSum</th>\n",
       "    </tr>\n",
       "  </thead>\n",
       "  <tbody>\n",
       "    <tr>\n",
       "      <th>0</th>\n",
       "      <td>2020-01-30</td>\n",
       "      <td>England</td>\n",
       "      <td>E06000014</td>\n",
       "      <td>York</td>\n",
       "      <td>1.0</td>\n",
       "      <td>24733348.0</td>\n",
       "    </tr>\n",
       "    <tr>\n",
       "      <th>1</th>\n",
       "      <td>2020-02-03</td>\n",
       "      <td>England</td>\n",
       "      <td>E10000002</td>\n",
       "      <td>Buckinghamshire</td>\n",
       "      <td>1.0</td>\n",
       "      <td></td>\n",
       "    </tr>\n",
       "    <tr>\n",
       "      <th>2</th>\n",
       "      <td>2020-02-03</td>\n",
       "      <td>Wales</td>\n",
       "      <td>W11000028</td>\n",
       "      <td>Aneurin Bevan</td>\n",
       "      <td>0.0</td>\n",
       "      <td></td>\n",
       "    </tr>\n",
       "    <tr>\n",
       "      <th>3</th>\n",
       "      <td>2020-02-03</td>\n",
       "      <td>Wales</td>\n",
       "      <td>W11000023</td>\n",
       "      <td>Betsi Cadwaladr</td>\n",
       "      <td>0.0</td>\n",
       "      <td></td>\n",
       "    </tr>\n",
       "    <tr>\n",
       "      <th>4</th>\n",
       "      <td>2020-02-03</td>\n",
       "      <td>Wales</td>\n",
       "      <td>W11000029</td>\n",
       "      <td>Cardiff and Vale</td>\n",
       "      <td>0.0</td>\n",
       "      <td></td>\n",
       "    </tr>\n",
       "  </tbody>\n",
       "</table>\n",
       "</div>"
      ],
      "text/plain": [
       "         Date  Country   AreaCode              Area  TotalCases TotalCasesSum\n",
       "0  2020-01-30  England  E06000014              York         1.0    24733348.0\n",
       "1  2020-02-03  England  E10000002   Buckinghamshire         1.0              \n",
       "2  2020-02-03    Wales  W11000028     Aneurin Bevan         0.0              \n",
       "3  2020-02-03    Wales  W11000023   Betsi Cadwaladr         0.0              \n",
       "4  2020-02-03    Wales  W11000029  Cardiff and Vale         0.0              "
      ]
     },
     "execution_count": 3,
     "metadata": {},
     "output_type": "execute_result"
    }
   ],
   "source": [
    "covid_data.loc[covid_data.index[0],\"TotalCasesSum\"] = covid_data[\"TotalCases\"].sum()\n",
    "covid_data['TotalCasesSum'] = covid_data['TotalCasesSum'].fillna('')\n",
    "\n",
    "covid_data.head()"
   ]
  },
  {
   "cell_type": "code",
   "execution_count": 4,
   "id": "7ab59a6d",
   "metadata": {},
   "outputs": [
    {
     "name": "stdout",
     "output_type": "stream",
     "text": [
      "Rows\n",
      "23775\n",
      "Columns\n",
      "6\n"
     ]
    }
   ],
   "source": [
    "print(\"Rows\")\n",
    "print(covid_data.shape[0])\n",
    "print(\"Columns\")\n",
    "print(covid_data.shape[1])"
   ]
  },
  {
   "cell_type": "code",
   "execution_count": 5,
   "id": "85e4b544",
   "metadata": {},
   "outputs": [
    {
     "data": {
      "text/plain": [
       "['Date', 'Country', 'AreaCode', 'Area', 'TotalCases', 'TotalCasesSum']"
      ]
     },
     "execution_count": 5,
     "metadata": {},
     "output_type": "execute_result"
    }
   ],
   "source": [
    "column_names = list(covid_data.columns.values)\n",
    "column_names"
   ]
  },
  {
   "cell_type": "code",
   "execution_count": 6,
   "id": "3986b4e0",
   "metadata": {},
   "outputs": [
    {
     "name": "stdout",
     "output_type": "stream",
     "text": [
      "a total of 23775 Areas were affected\n"
     ]
    }
   ],
   "source": [
    "count_area_affect = covid_data[covid_data.columns[5]].count()\n",
    "\n",
    "print(\"a total of {} Areas were affected\".format(count_area_affect))"
   ]
  },
  {
   "cell_type": "code",
   "execution_count": 7,
   "id": "5ab98943",
   "metadata": {},
   "outputs": [
    {
     "name": "stdout",
     "output_type": "stream",
     "text": [
      "Uk cases average cases\n"
     ]
    },
    {
     "data": {
      "text/html": [
       "<div>\n",
       "<style scoped>\n",
       "    .dataframe tbody tr th:only-of-type {\n",
       "        vertical-align: middle;\n",
       "    }\n",
       "\n",
       "    .dataframe tbody tr th {\n",
       "        vertical-align: top;\n",
       "    }\n",
       "\n",
       "    .dataframe thead th {\n",
       "        text-align: right;\n",
       "    }\n",
       "</style>\n",
       "<table border=\"1\" class=\"dataframe\">\n",
       "  <thead>\n",
       "    <tr style=\"text-align: right;\">\n",
       "      <th></th>\n",
       "      <th>Date</th>\n",
       "      <th>Country</th>\n",
       "      <th>AreaCode</th>\n",
       "      <th>Area</th>\n",
       "      <th>TotalCases</th>\n",
       "      <th>TotalCasesSum</th>\n",
       "      <th>AverageCases</th>\n",
       "    </tr>\n",
       "  </thead>\n",
       "  <tbody>\n",
       "    <tr>\n",
       "      <th>0</th>\n",
       "      <td>2020-01-30</td>\n",
       "      <td>England</td>\n",
       "      <td>E06000014</td>\n",
       "      <td>York</td>\n",
       "      <td>1.0</td>\n",
       "      <td>24733348.0</td>\n",
       "      <td>1040.309064</td>\n",
       "    </tr>\n",
       "    <tr>\n",
       "      <th>1</th>\n",
       "      <td>2020-02-03</td>\n",
       "      <td>England</td>\n",
       "      <td>E10000002</td>\n",
       "      <td>Buckinghamshire</td>\n",
       "      <td>1.0</td>\n",
       "      <td></td>\n",
       "      <td></td>\n",
       "    </tr>\n",
       "    <tr>\n",
       "      <th>2</th>\n",
       "      <td>2020-02-03</td>\n",
       "      <td>Wales</td>\n",
       "      <td>W11000028</td>\n",
       "      <td>Aneurin Bevan</td>\n",
       "      <td>0.0</td>\n",
       "      <td></td>\n",
       "      <td></td>\n",
       "    </tr>\n",
       "    <tr>\n",
       "      <th>3</th>\n",
       "      <td>2020-02-03</td>\n",
       "      <td>Wales</td>\n",
       "      <td>W11000023</td>\n",
       "      <td>Betsi Cadwaladr</td>\n",
       "      <td>0.0</td>\n",
       "      <td></td>\n",
       "      <td></td>\n",
       "    </tr>\n",
       "    <tr>\n",
       "      <th>4</th>\n",
       "      <td>2020-02-03</td>\n",
       "      <td>Wales</td>\n",
       "      <td>W11000029</td>\n",
       "      <td>Cardiff and Vale</td>\n",
       "      <td>0.0</td>\n",
       "      <td></td>\n",
       "      <td></td>\n",
       "    </tr>\n",
       "  </tbody>\n",
       "</table>\n",
       "</div>"
      ],
      "text/plain": [
       "         Date  Country   AreaCode              Area  TotalCases TotalCasesSum  \\\n",
       "0  2020-01-30  England  E06000014              York         1.0    24733348.0   \n",
       "1  2020-02-03  England  E10000002   Buckinghamshire         1.0                 \n",
       "2  2020-02-03    Wales  W11000028     Aneurin Bevan         0.0                 \n",
       "3  2020-02-03    Wales  W11000023   Betsi Cadwaladr         0.0                 \n",
       "4  2020-02-03    Wales  W11000029  Cardiff and Vale         0.0                 \n",
       "\n",
       "  AverageCases  \n",
       "0  1040.309064  \n",
       "1               \n",
       "2               \n",
       "3               \n",
       "4               "
      ]
     },
     "execution_count": 7,
     "metadata": {},
     "output_type": "execute_result"
    }
   ],
   "source": [
    "print(\"Uk cases average cases\")\n",
    "\n",
    "\n",
    "covid_data.loc[covid_data.index[0], 'AverageCases'] = covid_data['TotalCasesSum'][0] / count_area_affect\n",
    "\n",
    "covid_data['AverageCases'] = covid_data['AverageCases'].fillna('')\n",
    "\n",
    "covid_data.head()"
   ]
  },
  {
   "cell_type": "code",
   "execution_count": null,
   "id": "0a33ac0d",
   "metadata": {},
   "outputs": [],
   "source": []
  },
  {
   "cell_type": "code",
   "execution_count": null,
   "id": "2a4a0797",
   "metadata": {},
   "outputs": [],
   "source": []
  },
  {
   "cell_type": "code",
   "execution_count": null,
   "id": "e088b7ee",
   "metadata": {},
   "outputs": [],
   "source": []
  },
  {
   "cell_type": "code",
   "execution_count": null,
   "id": "34a2746d",
   "metadata": {},
   "outputs": [],
   "source": []
  },
  {
   "cell_type": "code",
   "execution_count": null,
   "id": "184dcb2c",
   "metadata": {},
   "outputs": [],
   "source": []
  },
  {
   "cell_type": "code",
   "execution_count": null,
   "id": "f7cff51b",
   "metadata": {},
   "outputs": [],
   "source": []
  }
 ],
 "metadata": {
  "kernelspec": {
   "display_name": "Python 3",
   "language": "python",
   "name": "python3"
  },
  "language_info": {
   "codemirror_mode": {
    "name": "ipython",
    "version": 3
   },
   "file_extension": ".py",
   "mimetype": "text/x-python",
   "name": "python",
   "nbconvert_exporter": "python",
   "pygments_lexer": "ipython3",
   "version": "3.10.9"
  },
  "vscode": {
   "interpreter": {
    "hash": "767d51c1340bd893661ea55ea3124f6de3c7a262a8b4abca0554b478b1e2ff90"
   }
  }
 },
 "nbformat": 4,
 "nbformat_minor": 5
}
